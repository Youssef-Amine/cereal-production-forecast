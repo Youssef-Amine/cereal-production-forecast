{
  "cells": [
    {
      "cell_type": "markdown",
      "id": "98352612",
      "metadata": {
        "id": "98352612"
      },
      "source": [
        "CEREAL PRODUCTION FORECASTING"
      ]
    },
    {
      "cell_type": "markdown",
      "id": "f7bcd08d",
      "metadata": {
        "id": "f7bcd08d"
      },
      "source": [
        "The main objective is to develop a comprehensive platform for forecasting cereal production by region, using adapted machine learning models and ensuring wide accessibility of the data.\n",
        "Our database contains variables on the production of 7 cereals for 13 regions in Burkina Faso from 1996 to 2022. For each region and each cereal type, there are productivity variables (yield, cultivated area, production which is the target variable) and climatic variables (rainfall, temperature, etc.).\n",
        "\n",
        "We'll use all these variable to build models like Random Forest and XGBoost.\n",
        "\n",
        "Performance metrics: We will use Root Mean Squared Error (RMSE) and the coefficient of determination.\n",
        "We will choose the model that will give us 85% minimum precision on the coefficient of determination and the lowest RMSE."
      ]
    },
    {
      "cell_type": "code",
      "execution_count": 42,
      "id": "2abc6c49",
      "metadata": {
        "id": "2abc6c49"
      },
      "outputs": [],
      "source": [
        "import pandas as pd\n",
        "import numpy as np\n",
        "import matplotlib.pyplot as plt\n",
        "import seaborn as sns\n",
        "import datetime\n",
        "from time import time\n",
        "import os\n",
        "from math import sqrt\n",
        "from sklearn import model_selection\n",
        "from sklearn.ensemble import RandomForestRegressor\n",
        "import xgboost as xgb\n",
        "from xgboost import XGBRegressor\n",
        "from sklearn.model_selection import GroupKFold, GridSearchCV, train_test_split\n",
        "from sklearn.compose import ColumnTransformer\n",
        "from sklearn.pipeline import Pipeline\n",
        "from sklearn.preprocessing import StandardScaler, OneHotEncoder\n",
        "from sklearn.metrics import mean_squared_error, r2_score\n",
        "import warnings\n",
        "warnings.filterwarnings('ignore')"
      ]
    },
    {
      "cell_type": "markdown",
      "id": "797ae5b8",
      "metadata": {
        "id": "797ae5b8"
      },
      "source": [
        "1. Preprocessing"
      ]
    },
    {
      "cell_type": "code",
      "execution_count": 17,
      "id": "ZrHclShiJUFz",
      "metadata": {
        "colab": {
          "base_uri": "https://localhost:8080/",
          "height": 73
        },
        "id": "ZrHclShiJUFz",
        "outputId": "8535b739-dd90-40ec-f800-fe3783d2b589"
      },
      "outputs": [
        {
          "output_type": "display_data",
          "data": {
            "text/plain": [
              "<IPython.core.display.HTML object>"
            ],
            "text/html": [
              "\n",
              "     <input type=\"file\" id=\"files-be41f8c1-b248-41e3-932f-74f6752d27cc\" name=\"files[]\" multiple disabled\n",
              "        style=\"border:none\" />\n",
              "     <output id=\"result-be41f8c1-b248-41e3-932f-74f6752d27cc\">\n",
              "      Upload widget is only available when the cell has been executed in the\n",
              "      current browser session. Please rerun this cell to enable.\n",
              "      </output>\n",
              "      <script>// Copyright 2017 Google LLC\n",
              "//\n",
              "// Licensed under the Apache License, Version 2.0 (the \"License\");\n",
              "// you may not use this file except in compliance with the License.\n",
              "// You may obtain a copy of the License at\n",
              "//\n",
              "//      http://www.apache.org/licenses/LICENSE-2.0\n",
              "//\n",
              "// Unless required by applicable law or agreed to in writing, software\n",
              "// distributed under the License is distributed on an \"AS IS\" BASIS,\n",
              "// WITHOUT WARRANTIES OR CONDITIONS OF ANY KIND, either express or implied.\n",
              "// See the License for the specific language governing permissions and\n",
              "// limitations under the License.\n",
              "\n",
              "/**\n",
              " * @fileoverview Helpers for google.colab Python module.\n",
              " */\n",
              "(function(scope) {\n",
              "function span(text, styleAttributes = {}) {\n",
              "  const element = document.createElement('span');\n",
              "  element.textContent = text;\n",
              "  for (const key of Object.keys(styleAttributes)) {\n",
              "    element.style[key] = styleAttributes[key];\n",
              "  }\n",
              "  return element;\n",
              "}\n",
              "\n",
              "// Max number of bytes which will be uploaded at a time.\n",
              "const MAX_PAYLOAD_SIZE = 100 * 1024;\n",
              "\n",
              "function _uploadFiles(inputId, outputId) {\n",
              "  const steps = uploadFilesStep(inputId, outputId);\n",
              "  const outputElement = document.getElementById(outputId);\n",
              "  // Cache steps on the outputElement to make it available for the next call\n",
              "  // to uploadFilesContinue from Python.\n",
              "  outputElement.steps = steps;\n",
              "\n",
              "  return _uploadFilesContinue(outputId);\n",
              "}\n",
              "\n",
              "// This is roughly an async generator (not supported in the browser yet),\n",
              "// where there are multiple asynchronous steps and the Python side is going\n",
              "// to poll for completion of each step.\n",
              "// This uses a Promise to block the python side on completion of each step,\n",
              "// then passes the result of the previous step as the input to the next step.\n",
              "function _uploadFilesContinue(outputId) {\n",
              "  const outputElement = document.getElementById(outputId);\n",
              "  const steps = outputElement.steps;\n",
              "\n",
              "  const next = steps.next(outputElement.lastPromiseValue);\n",
              "  return Promise.resolve(next.value.promise).then((value) => {\n",
              "    // Cache the last promise value to make it available to the next\n",
              "    // step of the generator.\n",
              "    outputElement.lastPromiseValue = value;\n",
              "    return next.value.response;\n",
              "  });\n",
              "}\n",
              "\n",
              "/**\n",
              " * Generator function which is called between each async step of the upload\n",
              " * process.\n",
              " * @param {string} inputId Element ID of the input file picker element.\n",
              " * @param {string} outputId Element ID of the output display.\n",
              " * @return {!Iterable<!Object>} Iterable of next steps.\n",
              " */\n",
              "function* uploadFilesStep(inputId, outputId) {\n",
              "  const inputElement = document.getElementById(inputId);\n",
              "  inputElement.disabled = false;\n",
              "\n",
              "  const outputElement = document.getElementById(outputId);\n",
              "  outputElement.innerHTML = '';\n",
              "\n",
              "  const pickedPromise = new Promise((resolve) => {\n",
              "    inputElement.addEventListener('change', (e) => {\n",
              "      resolve(e.target.files);\n",
              "    });\n",
              "  });\n",
              "\n",
              "  const cancel = document.createElement('button');\n",
              "  inputElement.parentElement.appendChild(cancel);\n",
              "  cancel.textContent = 'Cancel upload';\n",
              "  const cancelPromise = new Promise((resolve) => {\n",
              "    cancel.onclick = () => {\n",
              "      resolve(null);\n",
              "    };\n",
              "  });\n",
              "\n",
              "  // Wait for the user to pick the files.\n",
              "  const files = yield {\n",
              "    promise: Promise.race([pickedPromise, cancelPromise]),\n",
              "    response: {\n",
              "      action: 'starting',\n",
              "    }\n",
              "  };\n",
              "\n",
              "  cancel.remove();\n",
              "\n",
              "  // Disable the input element since further picks are not allowed.\n",
              "  inputElement.disabled = true;\n",
              "\n",
              "  if (!files) {\n",
              "    return {\n",
              "      response: {\n",
              "        action: 'complete',\n",
              "      }\n",
              "    };\n",
              "  }\n",
              "\n",
              "  for (const file of files) {\n",
              "    const li = document.createElement('li');\n",
              "    li.append(span(file.name, {fontWeight: 'bold'}));\n",
              "    li.append(span(\n",
              "        `(${file.type || 'n/a'}) - ${file.size} bytes, ` +\n",
              "        `last modified: ${\n",
              "            file.lastModifiedDate ? file.lastModifiedDate.toLocaleDateString() :\n",
              "                                    'n/a'} - `));\n",
              "    const percent = span('0% done');\n",
              "    li.appendChild(percent);\n",
              "\n",
              "    outputElement.appendChild(li);\n",
              "\n",
              "    const fileDataPromise = new Promise((resolve) => {\n",
              "      const reader = new FileReader();\n",
              "      reader.onload = (e) => {\n",
              "        resolve(e.target.result);\n",
              "      };\n",
              "      reader.readAsArrayBuffer(file);\n",
              "    });\n",
              "    // Wait for the data to be ready.\n",
              "    let fileData = yield {\n",
              "      promise: fileDataPromise,\n",
              "      response: {\n",
              "        action: 'continue',\n",
              "      }\n",
              "    };\n",
              "\n",
              "    // Use a chunked sending to avoid message size limits. See b/62115660.\n",
              "    let position = 0;\n",
              "    do {\n",
              "      const length = Math.min(fileData.byteLength - position, MAX_PAYLOAD_SIZE);\n",
              "      const chunk = new Uint8Array(fileData, position, length);\n",
              "      position += length;\n",
              "\n",
              "      const base64 = btoa(String.fromCharCode.apply(null, chunk));\n",
              "      yield {\n",
              "        response: {\n",
              "          action: 'append',\n",
              "          file: file.name,\n",
              "          data: base64,\n",
              "        },\n",
              "      };\n",
              "\n",
              "      let percentDone = fileData.byteLength === 0 ?\n",
              "          100 :\n",
              "          Math.round((position / fileData.byteLength) * 100);\n",
              "      percent.textContent = `${percentDone}% done`;\n",
              "\n",
              "    } while (position < fileData.byteLength);\n",
              "  }\n",
              "\n",
              "  // All done.\n",
              "  yield {\n",
              "    response: {\n",
              "      action: 'complete',\n",
              "    }\n",
              "  };\n",
              "}\n",
              "\n",
              "scope.google = scope.google || {};\n",
              "scope.google.colab = scope.google.colab || {};\n",
              "scope.google.colab._files = {\n",
              "  _uploadFiles,\n",
              "  _uploadFilesContinue,\n",
              "};\n",
              "})(self);\n",
              "</script> "
            ]
          },
          "metadata": {}
        },
        {
          "output_type": "stream",
          "name": "stdout",
          "text": [
            "Saving base_finale_céréales.xlsx to base_finale_céréales (1).xlsx\n"
          ]
        }
      ],
      "source": [
        "#Import the database\n",
        "from google.colab import files\n",
        "uploaded = files.upload()"
      ]
    },
    {
      "cell_type": "code",
      "execution_count": 18,
      "id": "cb4fcbb5",
      "metadata": {
        "colab": {
          "base_uri": "https://localhost:8080/",
          "height": 667
        },
        "id": "cb4fcbb5",
        "outputId": "00051c07-0967-463b-ffe6-38019b5342b5"
      },
      "outputs": [
        {
          "output_type": "execute_result",
          "data": {
            "text/plain": [
              "                 Région  Céréales  Année  Production (en tonnes)  \\\n",
              "0     Boucle du Mouhoun  Arachide   1996                 14810.0   \n",
              "1     Boucle du Mouhoun  Arachide   1997                 22231.0   \n",
              "2     Boucle du Mouhoun  Arachide   1998                 15490.0   \n",
              "3     Boucle du Mouhoun  Arachide   1999                 17127.0   \n",
              "4     Boucle du Mouhoun  Arachide   2000                 21565.0   \n",
              "...                 ...       ...    ...                     ...   \n",
              "2452          Sud-Ouest    Sorgho   2018                 79392.0   \n",
              "2453          Sud-Ouest    Sorgho   2019                100884.0   \n",
              "2454          Sud-Ouest    Sorgho   2020                109016.0   \n",
              "2455          Sud-Ouest    Sorgho   2021                117658.0   \n",
              "2456          Sud-Ouest    Sorgho   2022                127511.0   \n",
              "\n",
              "      Superficie (en ha) Rendement (tonne/ha)  \\\n",
              "0           37458.000000                0.395   \n",
              "1           21702.000000                1.024   \n",
              "2           30410.000000                0.509   \n",
              "3           21862.000000                0.783   \n",
              "4           26072.000000                0.827   \n",
              "...                  ...                  ...   \n",
              "2452        74126.000000                1.071   \n",
              "2453        86576.000000                1.165   \n",
              "2454        86096.000000                1.266   \n",
              "2455        95165.855353                1.236   \n",
              "2456       108831.900414                1.172   \n",
              "\n",
              "      Précipitations moyennes annuelles (en mm)  Nombre de jours de pluie   \\\n",
              "0                                         676.0                       66.0   \n",
              "1                                         837.9                       67.0   \n",
              "2                                         945.3                       75.0   \n",
              "3                                         921.9                       87.0   \n",
              "4                                         580.7                       68.0   \n",
              "...                                         ...                        ...   \n",
              "2452                                      931.5                      100.0   \n",
              "2453                                     1234.7                       94.0   \n",
              "2454                                     1051.2                       84.0   \n",
              "2455                                     1273.3                       95.0   \n",
              "2456                                     1270.8                       87.0   \n",
              "\n",
              "      Températures moyennes annuelles (en C°)  \\\n",
              "0                                       29.30   \n",
              "1                                       28.85   \n",
              "2                                       29.20   \n",
              "3                                       28.55   \n",
              "4                                       29.15   \n",
              "...                                       ...   \n",
              "2452                                    27.95   \n",
              "2453                                    28.25   \n",
              "2454                                    28.00   \n",
              "2455                                    28.20   \n",
              "2456                                    27.55   \n",
              "\n",
              "      Humidité relative maximale (en %)  Vent moyen annuel (en m/s)  \\\n",
              "0                                  63.0                    2.300000   \n",
              "1                                  65.0                    2.400000   \n",
              "2                                  65.0                    2.400000   \n",
              "3                                  67.0                    2.600000   \n",
              "4                                  65.0                    2.700000   \n",
              "...                                 ...                         ...   \n",
              "2452                               78.5                    1.700000   \n",
              "2453                               78.0                    1.600000   \n",
              "2454                               80.0                    1.683333   \n",
              "2455                               83.0                    1.600000   \n",
              "2456                               83.0                    1.700000   \n",
              "\n",
              "      Durée ensoleillement (en h/jr)  \n",
              "0                           8.900000  \n",
              "1                           8.700000  \n",
              "2                           8.300000  \n",
              "3                           8.800000  \n",
              "4                           8.500000  \n",
              "...                              ...  \n",
              "2452                        7.700000  \n",
              "2453                        8.025000  \n",
              "2454                        7.866667  \n",
              "2455                        7.900000  \n",
              "2456                        7.700000  \n",
              "\n",
              "[2457 rows x 12 columns]"
            ],
            "text/html": [
              "\n",
              "  <div id=\"df-cd2db0f4-ab54-476b-b5af-8d9791e0b353\" class=\"colab-df-container\">\n",
              "    <div>\n",
              "<style scoped>\n",
              "    .dataframe tbody tr th:only-of-type {\n",
              "        vertical-align: middle;\n",
              "    }\n",
              "\n",
              "    .dataframe tbody tr th {\n",
              "        vertical-align: top;\n",
              "    }\n",
              "\n",
              "    .dataframe thead th {\n",
              "        text-align: right;\n",
              "    }\n",
              "</style>\n",
              "<table border=\"1\" class=\"dataframe\">\n",
              "  <thead>\n",
              "    <tr style=\"text-align: right;\">\n",
              "      <th></th>\n",
              "      <th>Région</th>\n",
              "      <th>Céréales</th>\n",
              "      <th>Année</th>\n",
              "      <th>Production (en tonnes)</th>\n",
              "      <th>Superficie (en ha)</th>\n",
              "      <th>Rendement (tonne/ha)</th>\n",
              "      <th>Précipitations moyennes annuelles (en mm)</th>\n",
              "      <th>Nombre de jours de pluie</th>\n",
              "      <th>Températures moyennes annuelles (en C°)</th>\n",
              "      <th>Humidité relative maximale (en %)</th>\n",
              "      <th>Vent moyen annuel (en m/s)</th>\n",
              "      <th>Durée ensoleillement (en h/jr)</th>\n",
              "    </tr>\n",
              "  </thead>\n",
              "  <tbody>\n",
              "    <tr>\n",
              "      <th>0</th>\n",
              "      <td>Boucle du Mouhoun</td>\n",
              "      <td>Arachide</td>\n",
              "      <td>1996</td>\n",
              "      <td>14810.0</td>\n",
              "      <td>37458.000000</td>\n",
              "      <td>0.395</td>\n",
              "      <td>676.0</td>\n",
              "      <td>66.0</td>\n",
              "      <td>29.30</td>\n",
              "      <td>63.0</td>\n",
              "      <td>2.300000</td>\n",
              "      <td>8.900000</td>\n",
              "    </tr>\n",
              "    <tr>\n",
              "      <th>1</th>\n",
              "      <td>Boucle du Mouhoun</td>\n",
              "      <td>Arachide</td>\n",
              "      <td>1997</td>\n",
              "      <td>22231.0</td>\n",
              "      <td>21702.000000</td>\n",
              "      <td>1.024</td>\n",
              "      <td>837.9</td>\n",
              "      <td>67.0</td>\n",
              "      <td>28.85</td>\n",
              "      <td>65.0</td>\n",
              "      <td>2.400000</td>\n",
              "      <td>8.700000</td>\n",
              "    </tr>\n",
              "    <tr>\n",
              "      <th>2</th>\n",
              "      <td>Boucle du Mouhoun</td>\n",
              "      <td>Arachide</td>\n",
              "      <td>1998</td>\n",
              "      <td>15490.0</td>\n",
              "      <td>30410.000000</td>\n",
              "      <td>0.509</td>\n",
              "      <td>945.3</td>\n",
              "      <td>75.0</td>\n",
              "      <td>29.20</td>\n",
              "      <td>65.0</td>\n",
              "      <td>2.400000</td>\n",
              "      <td>8.300000</td>\n",
              "    </tr>\n",
              "    <tr>\n",
              "      <th>3</th>\n",
              "      <td>Boucle du Mouhoun</td>\n",
              "      <td>Arachide</td>\n",
              "      <td>1999</td>\n",
              "      <td>17127.0</td>\n",
              "      <td>21862.000000</td>\n",
              "      <td>0.783</td>\n",
              "      <td>921.9</td>\n",
              "      <td>87.0</td>\n",
              "      <td>28.55</td>\n",
              "      <td>67.0</td>\n",
              "      <td>2.600000</td>\n",
              "      <td>8.800000</td>\n",
              "    </tr>\n",
              "    <tr>\n",
              "      <th>4</th>\n",
              "      <td>Boucle du Mouhoun</td>\n",
              "      <td>Arachide</td>\n",
              "      <td>2000</td>\n",
              "      <td>21565.0</td>\n",
              "      <td>26072.000000</td>\n",
              "      <td>0.827</td>\n",
              "      <td>580.7</td>\n",
              "      <td>68.0</td>\n",
              "      <td>29.15</td>\n",
              "      <td>65.0</td>\n",
              "      <td>2.700000</td>\n",
              "      <td>8.500000</td>\n",
              "    </tr>\n",
              "    <tr>\n",
              "      <th>...</th>\n",
              "      <td>...</td>\n",
              "      <td>...</td>\n",
              "      <td>...</td>\n",
              "      <td>...</td>\n",
              "      <td>...</td>\n",
              "      <td>...</td>\n",
              "      <td>...</td>\n",
              "      <td>...</td>\n",
              "      <td>...</td>\n",
              "      <td>...</td>\n",
              "      <td>...</td>\n",
              "      <td>...</td>\n",
              "    </tr>\n",
              "    <tr>\n",
              "      <th>2452</th>\n",
              "      <td>Sud-Ouest</td>\n",
              "      <td>Sorgho</td>\n",
              "      <td>2018</td>\n",
              "      <td>79392.0</td>\n",
              "      <td>74126.000000</td>\n",
              "      <td>1.071</td>\n",
              "      <td>931.5</td>\n",
              "      <td>100.0</td>\n",
              "      <td>27.95</td>\n",
              "      <td>78.5</td>\n",
              "      <td>1.700000</td>\n",
              "      <td>7.700000</td>\n",
              "    </tr>\n",
              "    <tr>\n",
              "      <th>2453</th>\n",
              "      <td>Sud-Ouest</td>\n",
              "      <td>Sorgho</td>\n",
              "      <td>2019</td>\n",
              "      <td>100884.0</td>\n",
              "      <td>86576.000000</td>\n",
              "      <td>1.165</td>\n",
              "      <td>1234.7</td>\n",
              "      <td>94.0</td>\n",
              "      <td>28.25</td>\n",
              "      <td>78.0</td>\n",
              "      <td>1.600000</td>\n",
              "      <td>8.025000</td>\n",
              "    </tr>\n",
              "    <tr>\n",
              "      <th>2454</th>\n",
              "      <td>Sud-Ouest</td>\n",
              "      <td>Sorgho</td>\n",
              "      <td>2020</td>\n",
              "      <td>109016.0</td>\n",
              "      <td>86096.000000</td>\n",
              "      <td>1.266</td>\n",
              "      <td>1051.2</td>\n",
              "      <td>84.0</td>\n",
              "      <td>28.00</td>\n",
              "      <td>80.0</td>\n",
              "      <td>1.683333</td>\n",
              "      <td>7.866667</td>\n",
              "    </tr>\n",
              "    <tr>\n",
              "      <th>2455</th>\n",
              "      <td>Sud-Ouest</td>\n",
              "      <td>Sorgho</td>\n",
              "      <td>2021</td>\n",
              "      <td>117658.0</td>\n",
              "      <td>95165.855353</td>\n",
              "      <td>1.236</td>\n",
              "      <td>1273.3</td>\n",
              "      <td>95.0</td>\n",
              "      <td>28.20</td>\n",
              "      <td>83.0</td>\n",
              "      <td>1.600000</td>\n",
              "      <td>7.900000</td>\n",
              "    </tr>\n",
              "    <tr>\n",
              "      <th>2456</th>\n",
              "      <td>Sud-Ouest</td>\n",
              "      <td>Sorgho</td>\n",
              "      <td>2022</td>\n",
              "      <td>127511.0</td>\n",
              "      <td>108831.900414</td>\n",
              "      <td>1.172</td>\n",
              "      <td>1270.8</td>\n",
              "      <td>87.0</td>\n",
              "      <td>27.55</td>\n",
              "      <td>83.0</td>\n",
              "      <td>1.700000</td>\n",
              "      <td>7.700000</td>\n",
              "    </tr>\n",
              "  </tbody>\n",
              "</table>\n",
              "<p>2457 rows × 12 columns</p>\n",
              "</div>\n",
              "    <div class=\"colab-df-buttons\">\n",
              "\n",
              "  <div class=\"colab-df-container\">\n",
              "    <button class=\"colab-df-convert\" onclick=\"convertToInteractive('df-cd2db0f4-ab54-476b-b5af-8d9791e0b353')\"\n",
              "            title=\"Convert this dataframe to an interactive table.\"\n",
              "            style=\"display:none;\">\n",
              "\n",
              "  <svg xmlns=\"http://www.w3.org/2000/svg\" height=\"24px\" viewBox=\"0 -960 960 960\">\n",
              "    <path d=\"M120-120v-720h720v720H120Zm60-500h600v-160H180v160Zm220 220h160v-160H400v160Zm0 220h160v-160H400v160ZM180-400h160v-160H180v160Zm440 0h160v-160H620v160ZM180-180h160v-160H180v160Zm440 0h160v-160H620v160Z\"/>\n",
              "  </svg>\n",
              "    </button>\n",
              "\n",
              "  <style>\n",
              "    .colab-df-container {\n",
              "      display:flex;\n",
              "      gap: 12px;\n",
              "    }\n",
              "\n",
              "    .colab-df-convert {\n",
              "      background-color: #E8F0FE;\n",
              "      border: none;\n",
              "      border-radius: 50%;\n",
              "      cursor: pointer;\n",
              "      display: none;\n",
              "      fill: #1967D2;\n",
              "      height: 32px;\n",
              "      padding: 0 0 0 0;\n",
              "      width: 32px;\n",
              "    }\n",
              "\n",
              "    .colab-df-convert:hover {\n",
              "      background-color: #E2EBFA;\n",
              "      box-shadow: 0px 1px 2px rgba(60, 64, 67, 0.3), 0px 1px 3px 1px rgba(60, 64, 67, 0.15);\n",
              "      fill: #174EA6;\n",
              "    }\n",
              "\n",
              "    .colab-df-buttons div {\n",
              "      margin-bottom: 4px;\n",
              "    }\n",
              "\n",
              "    [theme=dark] .colab-df-convert {\n",
              "      background-color: #3B4455;\n",
              "      fill: #D2E3FC;\n",
              "    }\n",
              "\n",
              "    [theme=dark] .colab-df-convert:hover {\n",
              "      background-color: #434B5C;\n",
              "      box-shadow: 0px 1px 3px 1px rgba(0, 0, 0, 0.15);\n",
              "      filter: drop-shadow(0px 1px 2px rgba(0, 0, 0, 0.3));\n",
              "      fill: #FFFFFF;\n",
              "    }\n",
              "  </style>\n",
              "\n",
              "    <script>\n",
              "      const buttonEl =\n",
              "        document.querySelector('#df-cd2db0f4-ab54-476b-b5af-8d9791e0b353 button.colab-df-convert');\n",
              "      buttonEl.style.display =\n",
              "        google.colab.kernel.accessAllowed ? 'block' : 'none';\n",
              "\n",
              "      async function convertToInteractive(key) {\n",
              "        const element = document.querySelector('#df-cd2db0f4-ab54-476b-b5af-8d9791e0b353');\n",
              "        const dataTable =\n",
              "          await google.colab.kernel.invokeFunction('convertToInteractive',\n",
              "                                                    [key], {});\n",
              "        if (!dataTable) return;\n",
              "\n",
              "        const docLinkHtml = 'Like what you see? Visit the ' +\n",
              "          '<a target=\"_blank\" href=https://colab.research.google.com/notebooks/data_table.ipynb>data table notebook</a>'\n",
              "          + ' to learn more about interactive tables.';\n",
              "        element.innerHTML = '';\n",
              "        dataTable['output_type'] = 'display_data';\n",
              "        await google.colab.output.renderOutput(dataTable, element);\n",
              "        const docLink = document.createElement('div');\n",
              "        docLink.innerHTML = docLinkHtml;\n",
              "        element.appendChild(docLink);\n",
              "      }\n",
              "    </script>\n",
              "  </div>\n",
              "\n",
              "\n",
              "    <div id=\"df-3b5b9c18-593d-45fd-b199-d95058261746\">\n",
              "      <button class=\"colab-df-quickchart\" onclick=\"quickchart('df-3b5b9c18-593d-45fd-b199-d95058261746')\"\n",
              "                title=\"Suggest charts\"\n",
              "                style=\"display:none;\">\n",
              "\n",
              "<svg xmlns=\"http://www.w3.org/2000/svg\" height=\"24px\"viewBox=\"0 0 24 24\"\n",
              "     width=\"24px\">\n",
              "    <g>\n",
              "        <path d=\"M19 3H5c-1.1 0-2 .9-2 2v14c0 1.1.9 2 2 2h14c1.1 0 2-.9 2-2V5c0-1.1-.9-2-2-2zM9 17H7v-7h2v7zm4 0h-2V7h2v10zm4 0h-2v-4h2v4z\"/>\n",
              "    </g>\n",
              "</svg>\n",
              "      </button>\n",
              "\n",
              "<style>\n",
              "  .colab-df-quickchart {\n",
              "      --bg-color: #E8F0FE;\n",
              "      --fill-color: #1967D2;\n",
              "      --hover-bg-color: #E2EBFA;\n",
              "      --hover-fill-color: #174EA6;\n",
              "      --disabled-fill-color: #AAA;\n",
              "      --disabled-bg-color: #DDD;\n",
              "  }\n",
              "\n",
              "  [theme=dark] .colab-df-quickchart {\n",
              "      --bg-color: #3B4455;\n",
              "      --fill-color: #D2E3FC;\n",
              "      --hover-bg-color: #434B5C;\n",
              "      --hover-fill-color: #FFFFFF;\n",
              "      --disabled-bg-color: #3B4455;\n",
              "      --disabled-fill-color: #666;\n",
              "  }\n",
              "\n",
              "  .colab-df-quickchart {\n",
              "    background-color: var(--bg-color);\n",
              "    border: none;\n",
              "    border-radius: 50%;\n",
              "    cursor: pointer;\n",
              "    display: none;\n",
              "    fill: var(--fill-color);\n",
              "    height: 32px;\n",
              "    padding: 0;\n",
              "    width: 32px;\n",
              "  }\n",
              "\n",
              "  .colab-df-quickchart:hover {\n",
              "    background-color: var(--hover-bg-color);\n",
              "    box-shadow: 0 1px 2px rgba(60, 64, 67, 0.3), 0 1px 3px 1px rgba(60, 64, 67, 0.15);\n",
              "    fill: var(--button-hover-fill-color);\n",
              "  }\n",
              "\n",
              "  .colab-df-quickchart-complete:disabled,\n",
              "  .colab-df-quickchart-complete:disabled:hover {\n",
              "    background-color: var(--disabled-bg-color);\n",
              "    fill: var(--disabled-fill-color);\n",
              "    box-shadow: none;\n",
              "  }\n",
              "\n",
              "  .colab-df-spinner {\n",
              "    border: 2px solid var(--fill-color);\n",
              "    border-color: transparent;\n",
              "    border-bottom-color: var(--fill-color);\n",
              "    animation:\n",
              "      spin 1s steps(1) infinite;\n",
              "  }\n",
              "\n",
              "  @keyframes spin {\n",
              "    0% {\n",
              "      border-color: transparent;\n",
              "      border-bottom-color: var(--fill-color);\n",
              "      border-left-color: var(--fill-color);\n",
              "    }\n",
              "    20% {\n",
              "      border-color: transparent;\n",
              "      border-left-color: var(--fill-color);\n",
              "      border-top-color: var(--fill-color);\n",
              "    }\n",
              "    30% {\n",
              "      border-color: transparent;\n",
              "      border-left-color: var(--fill-color);\n",
              "      border-top-color: var(--fill-color);\n",
              "      border-right-color: var(--fill-color);\n",
              "    }\n",
              "    40% {\n",
              "      border-color: transparent;\n",
              "      border-right-color: var(--fill-color);\n",
              "      border-top-color: var(--fill-color);\n",
              "    }\n",
              "    60% {\n",
              "      border-color: transparent;\n",
              "      border-right-color: var(--fill-color);\n",
              "    }\n",
              "    80% {\n",
              "      border-color: transparent;\n",
              "      border-right-color: var(--fill-color);\n",
              "      border-bottom-color: var(--fill-color);\n",
              "    }\n",
              "    90% {\n",
              "      border-color: transparent;\n",
              "      border-bottom-color: var(--fill-color);\n",
              "    }\n",
              "  }\n",
              "</style>\n",
              "\n",
              "      <script>\n",
              "        async function quickchart(key) {\n",
              "          const quickchartButtonEl =\n",
              "            document.querySelector('#' + key + ' button');\n",
              "          quickchartButtonEl.disabled = true;  // To prevent multiple clicks.\n",
              "          quickchartButtonEl.classList.add('colab-df-spinner');\n",
              "          try {\n",
              "            const charts = await google.colab.kernel.invokeFunction(\n",
              "                'suggestCharts', [key], {});\n",
              "          } catch (error) {\n",
              "            console.error('Error during call to suggestCharts:', error);\n",
              "          }\n",
              "          quickchartButtonEl.classList.remove('colab-df-spinner');\n",
              "          quickchartButtonEl.classList.add('colab-df-quickchart-complete');\n",
              "        }\n",
              "        (() => {\n",
              "          let quickchartButtonEl =\n",
              "            document.querySelector('#df-3b5b9c18-593d-45fd-b199-d95058261746 button');\n",
              "          quickchartButtonEl.style.display =\n",
              "            google.colab.kernel.accessAllowed ? 'block' : 'none';\n",
              "        })();\n",
              "      </script>\n",
              "    </div>\n",
              "\n",
              "  <div id=\"id_2837a9b8-d234-4ad3-afd1-7b5a4bebeca5\">\n",
              "    <style>\n",
              "      .colab-df-generate {\n",
              "        background-color: #E8F0FE;\n",
              "        border: none;\n",
              "        border-radius: 50%;\n",
              "        cursor: pointer;\n",
              "        display: none;\n",
              "        fill: #1967D2;\n",
              "        height: 32px;\n",
              "        padding: 0 0 0 0;\n",
              "        width: 32px;\n",
              "      }\n",
              "\n",
              "      .colab-df-generate:hover {\n",
              "        background-color: #E2EBFA;\n",
              "        box-shadow: 0px 1px 2px rgba(60, 64, 67, 0.3), 0px 1px 3px 1px rgba(60, 64, 67, 0.15);\n",
              "        fill: #174EA6;\n",
              "      }\n",
              "\n",
              "      [theme=dark] .colab-df-generate {\n",
              "        background-color: #3B4455;\n",
              "        fill: #D2E3FC;\n",
              "      }\n",
              "\n",
              "      [theme=dark] .colab-df-generate:hover {\n",
              "        background-color: #434B5C;\n",
              "        box-shadow: 0px 1px 3px 1px rgba(0, 0, 0, 0.15);\n",
              "        filter: drop-shadow(0px 1px 2px rgba(0, 0, 0, 0.3));\n",
              "        fill: #FFFFFF;\n",
              "      }\n",
              "    </style>\n",
              "    <button class=\"colab-df-generate\" onclick=\"generateWithVariable('data')\"\n",
              "            title=\"Generate code using this dataframe.\"\n",
              "            style=\"display:none;\">\n",
              "\n",
              "  <svg xmlns=\"http://www.w3.org/2000/svg\" height=\"24px\"viewBox=\"0 0 24 24\"\n",
              "       width=\"24px\">\n",
              "    <path d=\"M7,19H8.4L18.45,9,17,7.55,7,17.6ZM5,21V16.75L18.45,3.32a2,2,0,0,1,2.83,0l1.4,1.43a1.91,1.91,0,0,1,.58,1.4,1.91,1.91,0,0,1-.58,1.4L9.25,21ZM18.45,9,17,7.55Zm-12,3A5.31,5.31,0,0,0,4.9,8.1,5.31,5.31,0,0,0,1,6.5,5.31,5.31,0,0,0,4.9,4.9,5.31,5.31,0,0,0,6.5,1,5.31,5.31,0,0,0,8.1,4.9,5.31,5.31,0,0,0,12,6.5,5.46,5.46,0,0,0,6.5,12Z\"/>\n",
              "  </svg>\n",
              "    </button>\n",
              "    <script>\n",
              "      (() => {\n",
              "      const buttonEl =\n",
              "        document.querySelector('#id_2837a9b8-d234-4ad3-afd1-7b5a4bebeca5 button.colab-df-generate');\n",
              "      buttonEl.style.display =\n",
              "        google.colab.kernel.accessAllowed ? 'block' : 'none';\n",
              "\n",
              "      buttonEl.onclick = () => {\n",
              "        google.colab.notebook.generateWithVariable('data');\n",
              "      }\n",
              "      })();\n",
              "    </script>\n",
              "  </div>\n",
              "\n",
              "    </div>\n",
              "  </div>\n"
            ],
            "application/vnd.google.colaboratory.intrinsic+json": {
              "type": "dataframe",
              "variable_name": "data",
              "summary": "{\n  \"name\": \"data\",\n  \"rows\": 2457,\n  \"fields\": [\n    {\n      \"column\": \"R\\u00e9gion\",\n      \"properties\": {\n        \"dtype\": \"category\",\n        \"num_unique_values\": 13,\n        \"samples\": [\n          \"Sahel\",\n          \"Nord\",\n          \"Boucle du Mouhoun\"\n        ],\n        \"semantic_type\": \"\",\n        \"description\": \"\"\n      }\n    },\n    {\n      \"column\": \"C\\u00e9r\\u00e9ales\",\n      \"properties\": {\n        \"dtype\": \"category\",\n        \"num_unique_values\": 7,\n        \"samples\": [\n          \"Arachide\",\n          \"Coton\",\n          \"Riz\"\n        ],\n        \"semantic_type\": \"\",\n        \"description\": \"\"\n      }\n    },\n    {\n      \"column\": \"Ann\\u00e9e\",\n      \"properties\": {\n        \"dtype\": \"number\",\n        \"std\": 7,\n        \"min\": 1996,\n        \"max\": 2022,\n        \"num_unique_values\": 27,\n        \"samples\": [\n          2004,\n          2009,\n          2005\n        ],\n        \"semantic_type\": \"\",\n        \"description\": \"\"\n      }\n    },\n    {\n      \"column\": \"Production (en tonnes)\",\n      \"properties\": {\n        \"dtype\": \"number\",\n        \"std\": 71988.11497220951,\n        \"min\": 0.0,\n        \"max\": 620019.703626029,\n        \"num_unique_values\": 2356,\n        \"samples\": [\n          35268.0,\n          62790.0,\n          183223.0\n        ],\n        \"semantic_type\": \"\",\n        \"description\": \"\"\n      }\n    },\n    {\n      \"column\": \"Superficie (en ha)\",\n      \"properties\": {\n        \"dtype\": \"number\",\n        \"std\": 66738.88663337925,\n        \"min\": 0.0,\n        \"max\": 373407.0,\n        \"num_unique_values\": 2341,\n        \"samples\": [\n          44069.0,\n          7720.0,\n          38807.0\n        ],\n        \"semantic_type\": \"\",\n        \"description\": \"\"\n      }\n    },\n    {\n      \"column\": \"Rendement (tonne/ha)\",\n      \"properties\": {\n        \"dtype\": \"string\",\n        \"num_unique_values\": 1499,\n        \"samples\": [\n          1.346,\n          9.939,\n          9.711\n        ],\n        \"semantic_type\": \"\",\n        \"description\": \"\"\n      }\n    },\n    {\n      \"column\": \"Pr\\u00e9cipitations moyennes annuelles (en mm)\",\n      \"properties\": {\n        \"dtype\": \"number\",\n        \"std\": 198.9084382930678,\n        \"min\": 310.7,\n        \"max\": 1402.0,\n        \"num_unique_values\": 325,\n        \"samples\": [\n          712.6,\n          867.2,\n          731.279411764706\n        ],\n        \"semantic_type\": \"\",\n        \"description\": \"\"\n      }\n    },\n    {\n      \"column\": \"Nombre de jours de pluie \",\n      \"properties\": {\n        \"dtype\": \"number\",\n        \"std\": 16.661947393354907,\n        \"min\": 29.0,\n        \"max\": 102.0,\n        \"num_unique_values\": 113,\n        \"samples\": [\n          60.0,\n          68.0,\n          55.0\n        ],\n        \"semantic_type\": \"\",\n        \"description\": \"\"\n      }\n    },\n    {\n      \"column\": \"Temp\\u00e9ratures moyennes annuelles (en C\\u00b0)\",\n      \"properties\": {\n        \"dtype\": \"number\",\n        \"std\": 0.887286568583335,\n        \"min\": 27.3,\n        \"max\": 36.9,\n        \"num_unique_values\": 153,\n        \"samples\": [\n          29.40416666666667,\n          29.01666666666667,\n          28.1\n        ],\n        \"semantic_type\": \"\",\n        \"description\": \"\"\n      }\n    },\n    {\n      \"column\": \"Humidit\\u00e9 relative maximale (en %)\",\n      \"properties\": {\n        \"dtype\": \"number\",\n        \"std\": 6.143178826212707,\n        \"min\": 47.0,\n        \"max\": 85.0,\n        \"num_unique_values\": 82,\n        \"samples\": [\n          64.5,\n          63.0,\n          70.0\n        ],\n        \"semantic_type\": \"\",\n        \"description\": \"\"\n      }\n    },\n    {\n      \"column\": \"Vent moyen annuel (en m/s)\",\n      \"properties\": {\n        \"dtype\": \"number\",\n        \"std\": 0.5370263118928105,\n        \"min\": 0.775,\n        \"max\": 3.4,\n        \"num_unique_values\": 82,\n        \"samples\": [\n          2.79583333333333,\n          2.3,\n          1.65\n        ],\n        \"semantic_type\": \"\",\n        \"description\": \"\"\n      }\n    },\n    {\n      \"column\": \"Dur\\u00e9e ensoleillement (en h/jr)\",\n      \"properties\": {\n        \"dtype\": \"number\",\n        \"std\": 0.42652875825781983,\n        \"min\": 6.7,\n        \"max\": 9.3,\n        \"num_unique_values\": 114,\n        \"samples\": [\n          7.1,\n          8.5,\n          8.149999999999999\n        ],\n        \"semantic_type\": \"\",\n        \"description\": \"\"\n      }\n    }\n  ]\n}"
            }
          },
          "metadata": {},
          "execution_count": 18
        }
      ],
      "source": [
        "data = pd.read_excel('base_finale_céréales.xlsx')\n",
        "data"
      ]
    },
    {
      "cell_type": "code",
      "execution_count": 19,
      "id": "470afee2",
      "metadata": {
        "colab": {
          "base_uri": "https://localhost:8080/"
        },
        "id": "470afee2",
        "outputId": "bc733918-fedc-4de2-ddfe-e0485e2b02d9"
      },
      "outputs": [
        {
          "output_type": "stream",
          "name": "stdout",
          "text": [
            "<class 'pandas.core.frame.DataFrame'>\n",
            "RangeIndex: 2457 entries, 0 to 2456\n",
            "Data columns (total 12 columns):\n",
            " #   Column                                     Non-Null Count  Dtype  \n",
            "---  ------                                     --------------  -----  \n",
            " 0   Région                                     2457 non-null   object \n",
            " 1   Céréales                                   2457 non-null   object \n",
            " 2   Année                                      2457 non-null   int64  \n",
            " 3   Production (en tonnes)                     2457 non-null   float64\n",
            " 4   Superficie (en ha)                         2457 non-null   float64\n",
            " 5   Rendement (tonne/ha)                       2457 non-null   object \n",
            " 6   Précipitations moyennes annuelles (en mm)  2457 non-null   float64\n",
            " 7   Nombre de jours de pluie                   2457 non-null   float64\n",
            " 8   Températures moyennes annuelles (en C°)    2457 non-null   float64\n",
            " 9   Humidité relative maximale (en %)          2457 non-null   float64\n",
            " 10  Vent moyen annuel (en m/s)                 2457 non-null   float64\n",
            " 11  Durée ensoleillement (en h/jr)             2457 non-null   float64\n",
            "dtypes: float64(8), int64(1), object(3)\n",
            "memory usage: 230.5+ KB\n"
          ]
        }
      ],
      "source": [
        "#Structure of data\n",
        "data.info()"
      ]
    },
    {
      "cell_type": "markdown",
      "id": "f22fa632",
      "metadata": {
        "id": "f22fa632"
      },
      "source": [
        "Our training data has +2400 observations. We will manage missing values."
      ]
    },
    {
      "cell_type": "code",
      "execution_count": 20,
      "id": "4ce8bee0",
      "metadata": {
        "colab": {
          "base_uri": "https://localhost:8080/",
          "height": 460
        },
        "id": "4ce8bee0",
        "outputId": "e6f482ce-3757-4cad-a8a8-06914eb1268a"
      },
      "outputs": [
        {
          "output_type": "execute_result",
          "data": {
            "text/plain": [
              "Région                                       0\n",
              "Céréales                                     0\n",
              "Année                                        0\n",
              "Production (en tonnes)                       0\n",
              "Superficie (en ha)                           0\n",
              "Rendement (tonne/ha)                         0\n",
              "Précipitations moyennes annuelles (en mm)    0\n",
              "Nombre de jours de pluie                     0\n",
              "Températures moyennes annuelles (en C°)      0\n",
              "Humidité relative maximale (en %)            0\n",
              "Vent moyen annuel (en m/s)                   0\n",
              "Durée ensoleillement (en h/jr)               0\n",
              "dtype: int64"
            ],
            "text/html": [
              "<div>\n",
              "<style scoped>\n",
              "    .dataframe tbody tr th:only-of-type {\n",
              "        vertical-align: middle;\n",
              "    }\n",
              "\n",
              "    .dataframe tbody tr th {\n",
              "        vertical-align: top;\n",
              "    }\n",
              "\n",
              "    .dataframe thead th {\n",
              "        text-align: right;\n",
              "    }\n",
              "</style>\n",
              "<table border=\"1\" class=\"dataframe\">\n",
              "  <thead>\n",
              "    <tr style=\"text-align: right;\">\n",
              "      <th></th>\n",
              "      <th>0</th>\n",
              "    </tr>\n",
              "  </thead>\n",
              "  <tbody>\n",
              "    <tr>\n",
              "      <th>Région</th>\n",
              "      <td>0</td>\n",
              "    </tr>\n",
              "    <tr>\n",
              "      <th>Céréales</th>\n",
              "      <td>0</td>\n",
              "    </tr>\n",
              "    <tr>\n",
              "      <th>Année</th>\n",
              "      <td>0</td>\n",
              "    </tr>\n",
              "    <tr>\n",
              "      <th>Production (en tonnes)</th>\n",
              "      <td>0</td>\n",
              "    </tr>\n",
              "    <tr>\n",
              "      <th>Superficie (en ha)</th>\n",
              "      <td>0</td>\n",
              "    </tr>\n",
              "    <tr>\n",
              "      <th>Rendement (tonne/ha)</th>\n",
              "      <td>0</td>\n",
              "    </tr>\n",
              "    <tr>\n",
              "      <th>Précipitations moyennes annuelles (en mm)</th>\n",
              "      <td>0</td>\n",
              "    </tr>\n",
              "    <tr>\n",
              "      <th>Nombre de jours de pluie</th>\n",
              "      <td>0</td>\n",
              "    </tr>\n",
              "    <tr>\n",
              "      <th>Températures moyennes annuelles (en C°)</th>\n",
              "      <td>0</td>\n",
              "    </tr>\n",
              "    <tr>\n",
              "      <th>Humidité relative maximale (en %)</th>\n",
              "      <td>0</td>\n",
              "    </tr>\n",
              "    <tr>\n",
              "      <th>Vent moyen annuel (en m/s)</th>\n",
              "      <td>0</td>\n",
              "    </tr>\n",
              "    <tr>\n",
              "      <th>Durée ensoleillement (en h/jr)</th>\n",
              "      <td>0</td>\n",
              "    </tr>\n",
              "  </tbody>\n",
              "</table>\n",
              "</div><br><label><b>dtype:</b> int64</label>"
            ]
          },
          "metadata": {},
          "execution_count": 20
        }
      ],
      "source": [
        "data.isnull().sum()"
      ]
    },
    {
      "cell_type": "markdown",
      "id": "3e8b27d2",
      "metadata": {
        "id": "3e8b27d2"
      },
      "source": [
        "We do not have missing data."
      ]
    },
    {
      "cell_type": "markdown",
      "source": [
        "Since our aim is to predict production, we're going to remove the yield variable to avoid data leakage. Indeed, calculating yield requires production and area values, so having yield in the model's dependent variables induces information leakage."
      ],
      "metadata": {
        "id": "fpRf3YlV47c_"
      },
      "id": "fpRf3YlV47c_"
    },
    {
      "cell_type": "code",
      "source": [
        "data = data.drop(columns=['Rendement (tonne/ha)'])"
      ],
      "metadata": {
        "id": "1OHio0gd6uwI"
      },
      "id": "1OHio0gd6uwI",
      "execution_count": 21,
      "outputs": []
    },
    {
      "cell_type": "markdown",
      "source": [
        "For the models, we need to pay attention with the spliting, because in data including time, the spliting must not be done randomly like we usually do with train_test_split of scikit-learn. It's beacuse in time series, we can't break the temporal structure (i.e the future should never be used to predict the past). Then in order to have control on spliting we use an index. Train data will be affected the first 80% of data and test data the last 20%."
      ],
      "metadata": {
        "id": "lGy7IRvsd2yp"
      },
      "id": "lGy7IRvsd2yp"
    },
    {
      "cell_type": "markdown",
      "id": "77f0c923",
      "metadata": {
        "id": "77f0c923"
      },
      "source": [
        "2. Random Forest"
      ]
    },
    {
      "cell_type": "code",
      "source": [
        "# Define variables\n",
        "\n",
        "target = \"Production (en tonnes)\"\n",
        "\n",
        "categorical_features = [\"Région\", \"Céréales\"]\n",
        "numeric_features = [ \"Année\", \"Superficie (en ha)\", \"Températures moyennes annuelles (en C°)\", \"Précipitations moyennes annuelles (en mm)\",\n",
        "                    \"Humidité relative maximale (en %)\", \"Vent moyen annuel (en m/s)\", \"Nombre de jours de pluie \", \"Durée ensoleillement (en h/jr)\"\n",
        "]\n",
        "\n",
        "X = data[categorical_features + numeric_features]\n",
        "y = data[target]\n",
        "groups = data[\"Région\"]  # for GroupKFold"
      ],
      "metadata": {
        "id": "mCv4WH8xFGyj"
      },
      "id": "mCv4WH8xFGyj",
      "execution_count": 22,
      "outputs": []
    },
    {
      "cell_type": "code",
      "source": [
        "# Scaling numeric variables and encoding categorical variables\n",
        "\n",
        "preprocessor = ColumnTransformer([\n",
        "    (\"num\", StandardScaler(), numeric_features),\n",
        "    (\"cat\", OneHotEncoder(handle_unknown=\"ignore\"), categorical_features)\n",
        "])"
      ],
      "metadata": {
        "id": "RkI_bg9-F7yV"
      },
      "id": "RkI_bg9-F7yV",
      "execution_count": 23,
      "outputs": []
    },
    {
      "cell_type": "code",
      "source": [
        "# Pipeline Random Forest\n",
        "\n",
        "seed = 42\n",
        "pipeline = Pipeline([\n",
        "    (\"preprocessing\", preprocessor),\n",
        "    (\"model\", RandomForestRegressor(random_state=seed))\n",
        "])"
      ],
      "metadata": {
        "id": "9gTiaEleGNQ1"
      },
      "id": "9gTiaEleGNQ1",
      "execution_count": 24,
      "outputs": []
    },
    {
      "cell_type": "code",
      "source": [
        "# Searching best hyperparameters\n",
        "\n",
        "param_grid = {\n",
        "    \"model__n_estimators\": [1, 5, 10, 50, 100, 200, 300],\n",
        "    \"model__max_depth\": [None, 10, 20, 50],\n",
        "    \"model__min_samples_split\": [2, 5]\n",
        "}\n",
        "\n",
        "from sklearn.model_selection import GroupKFold, GridSearchCV\n",
        "group_kfold = GroupKFold(n_splits=5)\n",
        "\n",
        "grid_search = GridSearchCV(\n",
        "    estimator=pipeline,\n",
        "    param_grid=param_grid,\n",
        "    cv=group_kfold,\n",
        "    scoring=\"r2\",\n",
        "    n_jobs=-1,\n",
        "    verbose=1\n",
        ")\n",
        "\n",
        "grid_search.fit(X, y, groups=groups)\n",
        "\n",
        "print(\"Best hyperparameters :\", grid_search.best_params_)"
      ],
      "metadata": {
        "colab": {
          "base_uri": "https://localhost:8080/"
        },
        "id": "rNNhwW-4GurD",
        "outputId": "af6680ef-5c69-46bd-c39e-e4839bb67fdf"
      },
      "id": "rNNhwW-4GurD",
      "execution_count": 25,
      "outputs": [
        {
          "output_type": "stream",
          "name": "stdout",
          "text": [
            "Fitting 5 folds for each of 56 candidates, totalling 280 fits\n",
            "Best hyperparameters : {'model__max_depth': None, 'model__min_samples_split': 5, 'model__n_estimators': 300}\n"
          ]
        }
      ]
    },
    {
      "cell_type": "code",
      "source": [
        "#Model training\n",
        "best_model = grid_search.best_estimator_\n",
        "y_pred = best_model.predict(X)\n",
        "\n",
        "#Evaluation\n",
        "print(\"R² Random Forest :\", r2_score(y, y_pred))\n",
        "print(\"RMSE Random Forest :\", np.sqrt(mean_squared_error(y, y_pred)))"
      ],
      "metadata": {
        "id": "Fwn3aUa5-Kxw",
        "colab": {
          "base_uri": "https://localhost:8080/"
        },
        "outputId": "36ecad75-8ab3-497e-af4f-4d0071d26b2b"
      },
      "id": "Fwn3aUa5-Kxw",
      "execution_count": 26,
      "outputs": [
        {
          "output_type": "stream",
          "name": "stdout",
          "text": [
            "R² Random Forest : 0.9820696524348044\n",
            "RMSE Random Forest : 9637.552539437747\n"
          ]
        }
      ]
    },
    {
      "cell_type": "code",
      "source": [
        "# Features importance\n",
        "\n",
        "# Retrieve column names after transformation\n",
        "cat_names = best_model.named_steps[\"preprocessing\"].named_transformers_[\"cat\"].get_feature_names_out(categorical_features)\n",
        "feature_names = np.concatenate([cat_names, numeric_features])\n",
        "\n",
        "importances = best_model.named_steps[\"model\"].feature_importances_\n",
        "\n",
        "importances_df = pd.DataFrame({\n",
        "    \"Feature\": feature_names,\n",
        "    \"Importance\": importances\n",
        "}).sort_values(by=\"Importance\", ascending=False)"
      ],
      "metadata": {
        "id": "NkhA78RqJAFA"
      },
      "id": "NkhA78RqJAFA",
      "execution_count": 27,
      "outputs": []
    },
    {
      "cell_type": "code",
      "source": [
        "# Visualization of Features importances\n",
        "import matplotlib.pyplot as plt\n",
        "import seaborn as sns\n",
        "\n",
        "plt.figure(figsize=(12, 8))\n",
        "ax = sns.barplot(x=\"Importance\", y=\"Feature\", data=importances_df)\n",
        "\n",
        "# Affichage des valeurs sur les barres\n",
        "for i, (imp, feat) in enumerate(zip(importances_df[\"Importance\"], importances_df[\"Feature\"])):\n",
        "    ax.text(imp + 0.001, i, f\"{imp:.3f}\", va='center', ha='left')\n",
        "\n",
        "plt.title(\"Feature Importance (Random Forest)\")\n",
        "plt.xlabel(\"importance score\")\n",
        "plt.ylabel(\"Feature\")\n",
        "plt.tight_layout()\n",
        "plt.show()"
      ],
      "metadata": {
        "colab": {
          "base_uri": "https://localhost:8080/",
          "height": 807
        },
        "id": "hpHitHmzJi49",
        "outputId": "6097584d-4053-406c-b345-f706a60d5fe6"
      },
      "id": "hpHitHmzJi49",
      "execution_count": 28,
      "outputs": [
        {
          "output_type": "display_data",
          "data": {
            "text/plain": [
              "<Figure size 1200x800 with 1 Axes>"
            ],
            "image/png": "[encoded data removed]"
          },
          "metadata": {}
        }
      ]
    },
    {
      "cell_type": "code",
      "source": [
        "# Prediction on new data\n",
        "new_data = pd.DataFrame({\n",
        "    'Région': ['Sahel'],\n",
        "    'Céréales': ['Maïs'],\n",
        "    'Année': [2023],\n",
        "    'Superficie (en ha)': [5500],\n",
        "    'Températures moyennes annuelles (en C°)': [30],\n",
        "    'Précipitations moyennes annuelles (en mm)': [200],\n",
        "    'Nombre de jours de pluie ': [7],\n",
        "    'Humidité relative maximale (en %)': [65],\n",
        "    'Vent moyen annuel (en m/s)': [22],\n",
        "    'Durée ensoleillement (en h/jr)': [6]\n",
        "})\n",
        "\n",
        "prediction = best_model.predict(new_data)\n",
        "\n",
        "print(f\"Predicted Production : {prediction[0]:.2f} tons\")"
      ],
      "metadata": {
        "colab": {
          "base_uri": "https://localhost:8080/"
        },
        "id": "SCY_J_y8Kk8y",
        "outputId": "78ec2c3b-5f06-4bbb-a7c7-8c082061e670"
      },
      "id": "SCY_J_y8Kk8y",
      "execution_count": 30,
      "outputs": [
        {
          "output_type": "stream",
          "name": "stdout",
          "text": [
            "Predicted Production : 6323.16 tons\n"
          ]
        }
      ]
    },
    {
      "cell_type": "markdown",
      "source": [
        "3. XGBoost"
      ],
      "metadata": {
        "id": "TrPSt6fb4JJa"
      },
      "id": "TrPSt6fb4JJa"
    },
    {
      "cell_type": "markdown",
      "source": [
        "For this model, we need to pay attention with the spliting, because in data including time, the spliting must not be done randomly like we usually do with train_test_split of scikit-learn. It's beacuse in time series, we can't break the temporal structure (i.e the future should never be used to predict the past). Then in order to have control on spliting we use an index. Train data will be affected the first 80% of data and test data the last 20%."
      ],
      "metadata": {
        "id": "ST0t60gyM-Zk"
      },
      "id": "ST0t60gyM-Zk"
    },
    {
      "cell_type": "code",
      "source": [
        "#Split the data into train and test sets\n",
        "X_train, X_test, y_train, y_test, groups_train, groups_test = train_test_split(\n",
        "    X, y, groups, test_size=0.2, stratify=groups, random_state=42\n",
        ")\n",
        "\n",
        "groups = data['Région']"
      ],
      "metadata": {
        "id": "o3a1-epfNU3c"
      },
      "id": "o3a1-epfNU3c",
      "execution_count": 45,
      "outputs": []
    },
    {
      "cell_type": "code",
      "source": [
        "# Pipeline\n",
        "preprocessor = ColumnTransformer([\n",
        "    ('cat', OneHotEncoder(drop='first', sparse_output=False), categorical_features)\n",
        "], remainder='passthrough')\n",
        "\n",
        "pipeline = Pipeline([\n",
        "    ('preprocessor', preprocessor),\n",
        "    ('regressor', XGBRegressor(random_state=42))\n",
        "])"
      ],
      "metadata": {
        "id": "e9hpaVDhOAfC"
      },
      "id": "e9hpaVDhOAfC",
      "execution_count": 35,
      "outputs": []
    },
    {
      "cell_type": "code",
      "source": [
        "# Hyperparameter search grid\n",
        "param_grid = {\n",
        "    'regressor__n_estimators': [50, 100, 200, 300],\n",
        "    'regressor__max_depth': [3, 5, 7],\n",
        "    'regressor__learning_rate': [0.05, 0.1]\n",
        "}\n",
        "\n",
        "cv = GroupKFold(n_splits=5)\n",
        "\n",
        "grid_search = GridSearchCV(\n",
        "    pipeline,\n",
        "    param_grid,\n",
        "    cv=cv,\n",
        "    scoring='r2',\n",
        "    n_jobs=-1,\n",
        "    verbose=1\n",
        ")\n",
        "\n",
        "grid_search.fit(X_train, y_train, groups=groups_train)\n",
        "print(\"Best hyperparameters :\", grid_search.best_params_)"
      ],
      "metadata": {
        "colab": {
          "base_uri": "https://localhost:8080/"
        },
        "id": "xJXUGxRdOJ2i",
        "outputId": "a82479f4-f8b9-4193-cf17-e87eef140466"
      },
      "id": "xJXUGxRdOJ2i",
      "execution_count": 46,
      "outputs": [
        {
          "output_type": "stream",
          "name": "stdout",
          "text": [
            "Fitting 5 folds for each of 24 candidates, totalling 120 fits\n",
            "Best hyperparameters : {'regressor__learning_rate': 0.05, 'regressor__max_depth': 3, 'regressor__n_estimators': 50}\n"
          ]
        }
      ]
    },
    {
      "cell_type": "code",
      "source": [
        "#Model training\n",
        "xgb = grid_search.best_estimator_\n",
        "y_pred = xgb.predict(X_test)\n",
        "\n",
        "print(\"\\n Évaluation :\")\n",
        "print(\"R² :\", r2_score(y_test, y_pred))\n",
        "print(\"RMSE :\", np.sqrt(mean_squared_error(y_test, y_pred)))\n"
      ],
      "metadata": {
        "id": "VAiY2nQc_Fsg",
        "colab": {
          "base_uri": "https://localhost:8080/"
        },
        "outputId": "f98b722a-e6f3-42ec-fff6-6a7a3a30741f"
      },
      "id": "VAiY2nQc_Fsg",
      "execution_count": 47,
      "outputs": [
        {
          "output_type": "stream",
          "name": "stdout",
          "text": [
            "\n",
            " Évaluation :\n",
            "R² : 0.8201796709663582\n",
            "RMSE : 32300.678703276146\n"
          ]
        }
      ]
    },
    {
      "cell_type": "code",
      "source": [
        "#Importance of features\n",
        "reg = xgb.named_steps['regressor']\n",
        "ohe = xgb.named_steps['preprocessor'].named_transformers_['cat']\n",
        "encoded_features = ohe.get_feature_names_out(categorical_features)\n",
        "all_features = list(encoded_features) + numeric_features\n",
        "\n",
        "importances = reg.feature_importances_\n",
        "importance_df = pd.DataFrame({\n",
        "    'feature': all_features,\n",
        "    'importance': importances\n",
        "}).sort_values(by='importance', ascending=False)"
      ],
      "metadata": {
        "id": "IhDMHGPDO1L3"
      },
      "id": "IhDMHGPDO1L3",
      "execution_count": 50,
      "outputs": []
    },
    {
      "cell_type": "code",
      "source": [
        "# 8. Displaying features importance\n",
        "plt.figure(figsize=(10, 6))\n",
        "plt.barh(importance_df['feature'], importance_df['importance'])\n",
        "plt.xlabel(\"Importance\")\n",
        "plt.title(\"Features importances\")\n",
        "plt.tight_layout()\n",
        "plt.show()"
      ],
      "metadata": {
        "colab": {
          "base_uri": "https://localhost:8080/",
          "height": 607
        },
        "id": "mrtl7XwaPBb-",
        "outputId": "3f13a554-db07-465e-a183-ad205c353d7d"
      },
      "id": "mrtl7XwaPBb-",
      "execution_count": 51,
      "outputs": [
        {
          "output_type": "display_data",
          "data": {
            "text/plain": [
              "<Figure size 1000x600 with 1 Axes>"
            ],
            "image/png": "[encoded data removed]"
          },
          "metadata": {}
        }
      ]
    },
    {
      "cell_type": "code",
      "source": [
        "#Prediction\n",
        "predictionxgb = xgb.predict(new_data)\n",
        "\n",
        "print(f\"Predicted Production : {predictionxgb[0]:.2f} tons\")"
      ],
      "metadata": {
        "colab": {
          "base_uri": "https://localhost:8080/"
        },
        "id": "97GkMVcnPKBR",
        "outputId": "51fe9892-7042-43b3-b640-e847a958783b"
      },
      "id": "97GkMVcnPKBR",
      "execution_count": 53,
      "outputs": [
        {
          "output_type": "stream",
          "name": "stdout",
          "text": [
            "Predicted Production : 12755.49 tons\n"
          ]
        }
      ]
    },
    {
      "cell_type": "markdown",
      "source": [
        "From the evaluation of each model, we can that Random Forest have a better determination coefficient (92%) and the lowest RMSE. Then it is the best model."
      ],
      "metadata": {
        "id": "154lCf8Zkem0"
      },
      "id": "154lCf8Zkem0"
    }
  ],
  "metadata": {
    "colab": {
      "provenance": []
    },
    "kernelspec": {
      "display_name": "Python 3",
      "language": "python",
      "name": "python3"
    },
    "language_info": {
      "codemirror_mode": {
        "name": "ipython",
        "version": 3
      },
      "file_extension": ".py",
      "mimetype": "text/x-python",
      "name": "python",
      "nbconvert_exporter": "python",
      "pygments_lexer": "ipython3",
      "version": "3.12.8"
    }
  },
  "nbformat": 4,
  "nbformat_minor": 5
}